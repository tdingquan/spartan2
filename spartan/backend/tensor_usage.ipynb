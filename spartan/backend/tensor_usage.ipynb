{
 "cells": [
  {
   "cell_type": "code",
   "execution_count": 2,
   "metadata": {
    "tags": []
   },
   "outputs": [
    {
     "name": "stdout",
     "output_type": "stream",
     "text": [
      "Using backend cpu\n"
     ]
    }
   ],
   "source": [
    "import spartan as st"
   ]
  },
  {
   "cell_type": "code",
   "execution_count": 3,
   "metadata": {},
   "outputs": [],
   "source": [
    "import numpy as np\n",
    "import sparse"
   ]
  },
  {
   "cell_type": "markdown",
   "metadata": {},
   "source": [
    "# CPU Dense"
   ]
  },
  {
   "cell_type": "code",
   "execution_count": 4,
   "metadata": {
    "tags": []
   },
   "outputs": [
    {
     "name": "stdout",
     "output_type": "stream",
     "text": [
      "DTensor(\n",
      "array([[0.37971278, 0.92770713, 0.77117777, 0.53611964],\n",
      "       [0.26797079, 0.92839792, 0.41462598, 0.89409775],\n",
      "       [0.95415388, 0.78644516, 0.62309603, 0.57903955]])\n",
      ")\n"
     ]
    }
   ],
   "source": [
    "A = st.DTensor.from_numpy(np.random.rand(3, 4))\n",
    "print(A)"
   ]
  },
  {
   "cell_type": "markdown",
   "metadata": {},
   "source": [
    "## Get Attributes"
   ]
  },
  {
   "cell_type": "code",
   "execution_count": 5,
   "metadata": {
    "tags": []
   },
   "outputs": [
    {
     "name": "stdout",
     "output_type": "stream",
     "text": [
      "(3, 4)\n",
      "float64\n",
      "DTensor(\n",
      "array([[0.37971278, 0.26797079, 0.95415388],\n",
      "       [0.92770713, 0.92839792, 0.78644516],\n",
      "       [0.77117777, 0.41462598, 0.62309603],\n",
      "       [0.53611964, 0.89409775, 0.57903955]])\n",
      ")\n"
     ]
    }
   ],
   "source": [
    "print(A.shape)\n",
    "print(A.dtype)\n",
    "print(A.T)"
   ]
  },
  {
   "cell_type": "markdown",
   "metadata": {},
   "source": [
    "## Index and Slice"
   ]
  },
  {
   "cell_type": "code",
   "execution_count": 6,
   "metadata": {
    "scrolled": true,
    "tags": []
   },
   "outputs": [
    {
     "name": "stdout",
     "output_type": "stream",
     "text": [
      "3\n",
      "DTensor(\n",
      "array([0.37971278, 0.92770713, 0.77117777, 0.53611964])\n",
      ")\n",
      "DTensor(\n",
      "array([0.92770713, 0.92839792, 0.78644516])\n",
      ")\n",
      "DTensor(\n",
      "array([[0.37971278, 0.92770713],\n",
      "       [0.26797079, 0.92839792],\n",
      "       [0.95415388, 0.78644516]])\n",
      ")\n"
     ]
    }
   ],
   "source": [
    "print(len(A))\n",
    "print(A[0])\n",
    "print(A[:, 1])\n",
    "print(A[:, 0:2])"
   ]
  },
  {
   "cell_type": "markdown",
   "metadata": {},
   "source": [
    "## Reduction operations"
   ]
  },
  {
   "cell_type": "code",
   "execution_count": 7,
   "metadata": {
    "tags": []
   },
   "outputs": [
    {
     "name": "stdout",
     "output_type": "stream",
     "text": [
      "8.062544367878555\n",
      "DTensor(\n",
      "array([1.60183745, 2.64255021, 1.80889977, 2.00925693])\n",
      ")\n"
     ]
    }
   ],
   "source": [
    "print(A.sum())\n",
    "print(A.sum(axis=0))"
   ]
  },
  {
   "cell_type": "code",
   "execution_count": 8,
   "metadata": {
    "tags": []
   },
   "outputs": [
    {
     "name": "stdout",
     "output_type": "stream",
     "text": [
      "8.062544367878555\n",
      "DTensor(\n",
      "array([1.60183745, 2.64255021, 1.80889977, 2.00925693])\n",
      ")\n"
     ]
    }
   ],
   "source": [
    "print(st.sum(A))\n",
    "print(st.sum(A, axis=0))"
   ]
  },
  {
   "cell_type": "markdown",
   "metadata": {},
   "source": [
    "## Binary operations"
   ]
  },
  {
   "cell_type": "code",
   "execution_count": 9,
   "metadata": {},
   "outputs": [],
   "source": [
    "B = st.DTensor.from_numpy(np.random.rand(3, 4))"
   ]
  },
  {
   "cell_type": "code",
   "execution_count": 10,
   "metadata": {
    "tags": []
   },
   "outputs": [
    {
     "name": "stdout",
     "output_type": "stream",
     "text": [
      "DTensor(\n",
      "array([[1.34703334, 0.98923887, 1.72938615, 0.98395904],\n",
      "       [1.03099973, 1.70951819, 1.30311079, 1.31403774],\n",
      "       [1.78687619, 1.63515756, 1.30643332, 1.31955874]])\n",
      ")\n",
      "DTensor(\n",
      "array([[1.34703334, 0.98923887, 1.72938615, 0.98395904],\n",
      "       [1.03099973, 1.70951819, 1.30311079, 1.31403774],\n",
      "       [1.78687619, 1.63515756, 1.30643332, 1.31955874]])\n",
      ")\n"
     ]
    }
   ],
   "source": [
    "print(A+B)\n",
    "print(st.add(A, B))"
   ]
  },
  {
   "cell_type": "code",
   "execution_count": 11,
   "metadata": {},
   "outputs": [
    {
     "name": "stdout",
     "output_type": "stream",
     "text": [
      "DTensor(\n",
      "array([[1.40343192, 1.92470049, 2.02753325],\n",
      "       [1.11404989, 1.67351619, 1.95651402],\n",
      "       [1.82773656, 2.13912849, 2.31658563]])\n",
      ")\n",
      "DTensor(\n",
      "array([[1.40343192, 1.92470049, 2.02753325],\n",
      "       [1.11404989, 1.67351619, 1.95651402],\n",
      "       [1.82773656, 2.13912849, 2.31658563]])\n",
      ")\n"
     ]
    }
   ],
   "source": [
    "print(A.dot(B.T))\n",
    "print(st.dot(A, B.T))"
   ]
  },
  {
   "cell_type": "markdown",
   "metadata": {},
   "source": [
    "# CPU Sparse"
   ]
  },
  {
   "cell_type": "code",
   "execution_count": 12,
   "metadata": {
    "tags": []
   },
   "outputs": [
    {
     "name": "stdout",
     "output_type": "stream",
     "text": [
      "STensor(<COO: shape=(3, 4), dtype=float64, nnz=2, fill_value=0.0>)\n",
      "DTensor(\n",
      "array([[0.        , 0.        , 0.        , 0.86224537],\n",
      "       [0.        , 0.        , 0.        , 0.        ],\n",
      "       [0.        , 0.        , 0.95945863, 0.        ]])\n",
      ")\n"
     ]
    }
   ],
   "source": [
    "A = np.random.rand(3, 4)\n",
    "A[A<0.8] = 0\n",
    "A = st.STensor.from_numpy(A)\n",
    "print(A)\n",
    "print(A.todense())"
   ]
  },
  {
   "cell_type": "markdown",
   "metadata": {},
   "source": [
    "## Get Attributes"
   ]
  },
  {
   "cell_type": "code",
   "execution_count": 13,
   "metadata": {
    "tags": []
   },
   "outputs": [
    {
     "name": "stdout",
     "output_type": "stream",
     "text": [
      "(3, 4)\n",
      "float64\n",
      "STensor(<COO: shape=(4, 3), dtype=float64, nnz=2, fill_value=0.0>)\n"
     ]
    }
   ],
   "source": [
    "print(A.shape)\n",
    "print(A.dtype)\n",
    "print(A.T)"
   ]
  },
  {
   "cell_type": "markdown",
   "metadata": {},
   "source": [
    "## Index and Slice"
   ]
  },
  {
   "cell_type": "code",
   "execution_count": 14,
   "metadata": {
    "tags": []
   },
   "outputs": [
    {
     "name": "stdout",
     "output_type": "stream",
     "text": [
      "3\n",
      "STensor(<COO: shape=(4,), dtype=float64, nnz=1, fill_value=0.0>)\n",
      "STensor(<COO: shape=(3,), dtype=float64, nnz=0, fill_value=0.0>)\n",
      "STensor(<COO: shape=(3, 2), dtype=float64, nnz=0, fill_value=0.0>)\n"
     ]
    }
   ],
   "source": [
    "print(len(A))\n",
    "print(A[0])\n",
    "print(A[:, 1])\n",
    "print(A[:, 0:2])"
   ]
  },
  {
   "cell_type": "markdown",
   "metadata": {},
   "source": [
    "## Reduction operations"
   ]
  },
  {
   "cell_type": "code",
   "execution_count": 15,
   "metadata": {
    "tags": []
   },
   "outputs": [
    {
     "name": "stdout",
     "output_type": "stream",
     "text": [
      "1.8217040040234693\n",
      "DTensor(\n",
      "array([0.        , 0.        , 0.95945863, 0.86224537])\n",
      ")\n"
     ]
    }
   ],
   "source": [
    "print(A.sum())\n",
    "print(A.sum(axis=0).todense())"
   ]
  },
  {
   "cell_type": "code",
   "execution_count": 16,
   "metadata": {
    "tags": []
   },
   "outputs": [
    {
     "name": "stdout",
     "output_type": "stream",
     "text": [
      "1.8217040040234693\n",
      "DTensor(\n",
      "array([0.        , 0.        , 0.95945863, 0.86224537])\n",
      ")\n"
     ]
    }
   ],
   "source": [
    "print(st.sum(A))\n",
    "print(st.sum(A, axis=0).todense())"
   ]
  },
  {
   "cell_type": "markdown",
   "metadata": {},
   "source": [
    "## Binary operations"
   ]
  },
  {
   "cell_type": "code",
   "execution_count": 17,
   "metadata": {},
   "outputs": [],
   "source": [
    "B = np.random.rand(3, 4)\n",
    "B[B<0.8] = 0\n",
    "B = st.STensor.from_numpy(B)"
   ]
  },
  {
   "cell_type": "code",
   "execution_count": 18,
   "metadata": {
    "tags": []
   },
   "outputs": [
    {
     "name": "stdout",
     "output_type": "stream",
     "text": [
      "STensor(<COO: shape=(3, 4), dtype=float64, nnz=3, fill_value=0.0>)\n",
      "DTensor(\n",
      "array([[0.        , 0.        , 0.        , 0.86224537],\n",
      "       [0.        , 0.        , 0.        , 0.        ],\n",
      "       [0.87014047, 0.        , 0.95945863, 0.        ]])\n",
      ")\n",
      "STensor(<COO: shape=(3, 4), dtype=float64, nnz=3, fill_value=0.0>)\n",
      "DTensor(\n",
      "array([[0.        , 0.        , 0.        , 0.86224537],\n",
      "       [0.        , 0.        , 0.        , 0.        ],\n",
      "       [0.87014047, 0.        , 0.95945863, 0.        ]])\n",
      ")\n"
     ]
    }
   ],
   "source": [
    "print(A+B)\n",
    "print((A+B).todense())\n",
    "print(st.add(A, B))\n",
    "print(st.add(A, B).todense())"
   ]
  },
  {
   "cell_type": "code",
   "execution_count": 19,
   "metadata": {},
   "outputs": [
    {
     "name": "stdout",
     "output_type": "stream",
     "text": [
      "STensor(<COO: shape=(3, 3), dtype=float64, nnz=0, fill_value=0.0>)\n",
      "DTensor(\n",
      "array([[0., 0., 0.],\n",
      "       [0., 0., 0.],\n",
      "       [0., 0., 0.]])\n",
      ")\n",
      "STensor(<COO: shape=(3, 3), dtype=float64, nnz=0, fill_value=0.0>)\n",
      "DTensor(\n",
      "array([[0., 0., 0.],\n",
      "       [0., 0., 0.],\n",
      "       [0., 0., 0.]])\n",
      ")\n"
     ]
    }
   ],
   "source": [
    "print(A.dot(B.T))\n",
    "print(A.dot(B.T).todense())\n",
    "print(st.dot(A, B.T))\n",
    "print(st.dot(A, B.T).todense())"
   ]
  },
  {
   "cell_type": "code",
   "execution_count": null,
   "metadata": {},
   "outputs": [],
   "source": []
  },
  {
   "cell_type": "markdown",
   "metadata": {},
   "source": [
    "# GPU Dense"
   ]
  },
  {
   "cell_type": "code",
   "execution_count": 20,
   "metadata": {},
   "outputs": [],
   "source": [
    "import sys\n",
    "sys.path.append('../../')"
   ]
  },
  {
   "cell_type": "code",
   "execution_count": 21,
   "metadata": {
    "tags": []
   },
   "outputs": [
    {
     "name": "stdout",
     "output_type": "stream",
     "text": [
      "Using backend gpu\n"
     ]
    }
   ],
   "source": [
    "import spartan as st\n",
    "\n",
    "st.load_backend('gpu')"
   ]
  },
  {
   "cell_type": "code",
   "execution_count": 22,
   "metadata": {},
   "outputs": [],
   "source": [
    "import torch"
   ]
  },
  {
   "cell_type": "code",
   "execution_count": 23,
   "metadata": {},
   "outputs": [],
   "source": [
    "A = st.DTensor(torch.rand(3, 4))"
   ]
  },
  {
   "cell_type": "markdown",
   "metadata": {},
   "source": [
    "## Attributes"
   ]
  },
  {
   "cell_type": "code",
   "execution_count": 24,
   "metadata": {
    "tags": []
   },
   "outputs": [
    {
     "name": "stdout",
     "output_type": "stream",
     "text": [
      "DTensor(\n",
      "tensor([3, 4], device='cuda:0')\n",
      ")\n",
      "torch.float32\n",
      "DTensor(\n",
      "tensor([[0.9952, 0.7491, 0.8645],\n",
      "        [0.1331, 0.2979, 0.5710],\n",
      "        [0.5118, 0.8959, 0.7612],\n",
      "        [0.1952, 0.7256, 0.5922]], device='cuda:0')\n",
      ")\n"
     ]
    }
   ],
   "source": [
    "print(A.shape)\n",
    "print(A.dtype)\n",
    "print(A.T)"
   ]
  },
  {
   "cell_type": "markdown",
   "metadata": {},
   "source": [
    "## Slice"
   ]
  },
  {
   "cell_type": "code",
   "execution_count": 25,
   "metadata": {
    "tags": []
   },
   "outputs": [
    {
     "name": "stdout",
     "output_type": "stream",
     "text": [
      "3\n",
      "DTensor(\n",
      "tensor([0.9952, 0.1331, 0.5118, 0.1952], device='cuda:0')\n",
      ")\n",
      "DTensor(\n",
      "tensor([0.1331, 0.2979, 0.5710], device='cuda:0')\n",
      ")\n",
      "DTensor(\n",
      "tensor([[0.9952, 0.1331],\n",
      "        [0.7491, 0.2979],\n",
      "        [0.8645, 0.5710]], device='cuda:0')\n",
      ")\n"
     ]
    }
   ],
   "source": [
    "print(len(A))\n",
    "print(A[0])\n",
    "print(A[:, 1])\n",
    "print(A[:, 0:2])"
   ]
  },
  {
   "cell_type": "markdown",
   "metadata": {},
   "source": [
    "## Reduction Operations"
   ]
  },
  {
   "cell_type": "code",
   "execution_count": 26,
   "metadata": {
    "tags": []
   },
   "outputs": [
    {
     "name": "stdout",
     "output_type": "stream",
     "text": [
      "7.292748928070068\n",
      "DTensor(\n",
      "tensor([2.6089, 1.0020, 2.1689, 1.5130], device='cuda:0')\n",
      ")\n"
     ]
    }
   ],
   "source": [
    "print(A.sum())\n",
    "print(A.sum(axis=0))"
   ]
  },
  {
   "cell_type": "code",
   "execution_count": 27,
   "metadata": {
    "tags": []
   },
   "outputs": [
    {
     "name": "stdout",
     "output_type": "stream",
     "text": [
      "7.292748928070068\n",
      "DTensor(\n",
      "tensor([2.6089, 1.0020, 2.1689, 1.5130], device='cuda:0')\n",
      ")\n"
     ]
    }
   ],
   "source": [
    "print(st.sum(A))\n",
    "print(st.sum(A, axis=0))"
   ]
  },
  {
   "cell_type": "markdown",
   "metadata": {},
   "source": [
    "## Binary Operations"
   ]
  },
  {
   "cell_type": "code",
   "execution_count": 28,
   "metadata": {},
   "outputs": [],
   "source": [
    "B = st.DTensor(torch.rand(3, 4))"
   ]
  },
  {
   "cell_type": "code",
   "execution_count": 29,
   "metadata": {
    "tags": []
   },
   "outputs": [
    {
     "name": "stdout",
     "output_type": "stream",
     "text": [
      "DTensor(\n",
      "tensor([[1.5273, 0.2267, 0.6178, 0.3074],\n",
      "        [1.2462, 0.9045, 1.1297, 0.9067],\n",
      "        [1.5285, 1.3404, 1.5518, 0.7043]], device='cuda:0')\n",
      ")\n",
      "DTensor(\n",
      "tensor([[1.5273, 0.2267, 0.6178, 0.3074],\n",
      "        [1.2462, 0.9045, 1.1297, 0.9067],\n",
      "        [1.5285, 1.3404, 1.5518, 0.7043]], device='cuda:0')\n",
      ")\n"
     ]
    }
   ],
   "source": [
    "print(A+B)\n",
    "print(st.add(A, B))"
   ]
  },
  {
   "cell_type": "code",
   "execution_count": 30,
   "metadata": {},
   "outputs": [
    {
     "name": "stdout",
     "output_type": "stream",
     "text": [
      "DTensor(\n",
      "tensor([[0.6182, 0.7304, 1.1897],\n",
      "        [0.6029, 0.8939, 1.5163],\n",
      "        [0.6606, 1.0613, 1.6816]], device='cuda:0')\n",
      ")\n",
      "DTensor(\n",
      "tensor([[0.6182, 0.7304, 1.1897],\n",
      "        [0.6029, 0.8939, 1.5163],\n",
      "        [0.6606, 1.0613, 1.6816]], device='cuda:0')\n",
      ")\n"
     ]
    }
   ],
   "source": [
    "print(A.dot(B.T))\n",
    "print(st.dot(A, B.T))"
   ]
  },
  {
   "cell_type": "markdown",
   "metadata": {},
   "source": [
    "## GPU Sparse\n",
    "**Notice**: Some oeprations are not supported for GPU STensor yet!"
   ]
  },
  {
   "cell_type": "code",
   "execution_count": 31,
   "metadata": {},
   "outputs": [],
   "source": [
    "import scipy.sparse as ssp"
   ]
  },
  {
   "cell_type": "code",
   "execution_count": 32,
   "metadata": {},
   "outputs": [],
   "source": [
    "A = np.random.rand(3, 4)\n",
    "A[A<0.8] = 0"
   ]
  },
  {
   "cell_type": "code",
   "execution_count": 33,
   "metadata": {
    "tags": []
   },
   "outputs": [
    {
     "name": "stdout",
     "output_type": "stream",
     "text": [
      "STensor(\n",
      "tensor(indices=tensor([[1, 2, 2, 2],\n",
      "                       [2, 0, 1, 3]]),\n",
      "       values=tensor([0.8536, 0.8730, 0.9592, 0.8267]),\n",
      "       device='cuda:0', size=(3, 4), nnz=4, dtype=torch.float64,\n",
      "       layout=torch.sparse_coo)\n",
      ")\n",
      "DTensor(\n",
      "tensor([[0.0000, 0.0000, 0.0000, 0.0000],\n",
      "        [0.0000, 0.0000, 0.8536, 0.0000],\n",
      "        [0.8730, 0.9592, 0.0000, 0.8267]], device='cuda:0',\n",
      "       dtype=torch.float64)\n",
      ")\n"
     ]
    }
   ],
   "source": [
    "A = np.random.rand(3, 4)\n",
    "A[A<0.8] = 0\n",
    "A = st.STensor.from_numpy(A)\n",
    "print(A)\n",
    "print(A.todense())"
   ]
  },
  {
   "cell_type": "markdown",
   "metadata": {},
   "source": [
    "## Attributes"
   ]
  },
  {
   "cell_type": "code",
   "execution_count": 34,
   "metadata": {
    "tags": []
   },
   "outputs": [
    {
     "name": "stdout",
     "output_type": "stream",
     "text": [
      "DTensor(\n",
      "tensor([3, 4], device='cuda:0')\n",
      ")\n",
      "torch.float64\n"
     ]
    }
   ],
   "source": [
    "print(A.shape)\n",
    "print(A.dtype)\n",
    "# print(A.T)"
   ]
  },
  {
   "cell_type": "markdown",
   "metadata": {},
   "source": [
    "## Index and Slice\n",
    "**Notice**: Pytorch GPU sparse tensor doesn't support complex slice yet!"
   ]
  },
  {
   "cell_type": "code",
   "execution_count": 35,
   "metadata": {
    "tags": []
   },
   "outputs": [
    {
     "name": "stdout",
     "output_type": "stream",
     "text": [
      "3\n",
      "STensor(\n",
      "tensor(indices=tensor([], size=(1, 0)),\n",
      "       values=tensor([], size=(0,)),\n",
      "       device='cuda:0', size=(4,), nnz=0, dtype=torch.float64,\n",
      "       layout=torch.sparse_coo)\n",
      ")\n"
     ]
    }
   ],
   "source": [
    "print(len(A))\n",
    "print(A[0])"
   ]
  },
  {
   "cell_type": "markdown",
   "metadata": {},
   "source": [
    "## Reduction operations"
   ]
  },
  {
   "cell_type": "code",
   "execution_count": 36,
   "metadata": {
    "tags": []
   },
   "outputs": [
    {
     "name": "stdout",
     "output_type": "stream",
     "text": [
      "3.5125456713899603\n",
      "DTensor(\n",
      "tensor([0.8730, 0.9592, 0.8536, 0.8267], device='cuda:0', dtype=torch.float64)\n",
      ")\n"
     ]
    }
   ],
   "source": [
    "print(A.sum())\n",
    "print(A.sum(axis=0).todense())"
   ]
  },
  {
   "cell_type": "code",
   "execution_count": 37,
   "metadata": {},
   "outputs": [],
   "source": [
    "# print(st.sum(A))\n",
    "# print(st.sum(A, axis=0).todense())"
   ]
  },
  {
   "cell_type": "markdown",
   "metadata": {},
   "source": [
    "## Binary operations"
   ]
  },
  {
   "cell_type": "code",
   "execution_count": 38,
   "metadata": {},
   "outputs": [],
   "source": [
    "B = np.random.rand(3, 4)\n",
    "B[B<0.8] = 0\n",
    "B = st.STensor.from_numpy(B)"
   ]
  },
  {
   "cell_type": "code",
   "execution_count": 39,
   "metadata": {
    "tags": []
   },
   "outputs": [
    {
     "name": "stdout",
     "output_type": "stream",
     "text": [
      "STensor(\n",
      "tensor(indices=tensor([[1, 2, 2, 2, 1, 2, 2],\n",
      "                       [2, 0, 1, 3, 0, 1, 2]]),\n",
      "       values=tensor([0.8536, 0.8730, 0.9592, 0.8267, 0.8362, 0.9146, 0.8965]),\n",
      "       device='cuda:0', size=(3, 4), nnz=7, dtype=torch.float64,\n",
      "       layout=torch.sparse_coo)\n",
      ")\n",
      "DTensor(\n",
      "tensor([[0.0000, 0.0000, 0.0000, 0.0000],\n",
      "        [0.8362, 0.0000, 0.8536, 0.0000],\n",
      "        [0.8730, 1.8738, 0.8965, 0.8267]], device='cuda:0',\n",
      "       dtype=torch.float64)\n",
      ")\n"
     ]
    }
   ],
   "source": [
    "print(A+B)\n",
    "print((A+B).todense())\n",
    "# print(st.add(A, B))\n",
    "# print(st.add(A, B).todense())"
   ]
  }
 ],
 "metadata": {
  "kernelspec": {
   "display_name": "Python 3",
   "language": "python",
   "name": "python3"
  },
  "language_info": {
   "codemirror_mode": {
    "name": "ipython",
    "version": 3
   },
   "file_extension": ".py",
   "mimetype": "text/x-python",
   "name": "python",
   "nbconvert_exporter": "python",
   "pygments_lexer": "ipython3",
   "version": "3.7.6"
  }
 },
 "nbformat": 4,
 "nbformat_minor": 4
}
